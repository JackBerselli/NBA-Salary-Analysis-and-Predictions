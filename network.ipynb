{
 "cells": [
  {
   "cell_type": "markdown",
   "metadata": {},
   "source": [
    "# **<center>NBA SALARY PREDICTION</center>**\n",
    "\n",
    "_by Giacomo Berselli_"
   ]
  },
  {
   "cell_type": "markdown",
   "metadata": {},
   "source": [
    "### **1. INTRODUCTION**\n",
    "\n",
    "Determining the factors that influence National Basketball Association (NBA) owners to pay players has always been of great importance in light of financial constraints such as the NBA salary cap. Furthermore, the players themselves decided to assume teams of data scientists because interested in what variables affect their salaries, to evaluate if they were adequate or not.\n",
    "\n",
    "This project aims to understand the relationship between a player's characteristics, his statistics, and his annual salary. Analyses will be performed on the performance and skills of the players, to understand whether the salaries are appropriate concerning their peers and which factors are most crucial. Finally, conclusions will be drawn regarding the likelihood of improvement of a given player and the relative probability of injury, which can be of great help to teams during trade periods.\n",
    "\n",
    "The task was done by collecting the official data of the players in the 2020-2021 regular season from the official website of the NBA and that of ESPN. Then the database was processed through a Bayesian Network, which allows to deal with uncertainty and partial information and to make probabilistic predictions by defining probabilities of different causes that could affect the target in a very simplified model of the domain of interest."
   ]
  },
  {
   "cell_type": "markdown",
   "metadata": {},
   "source": [
    "### **2. IMPORT DATA**"
   ]
  },
  {
   "cell_type": "code",
   "execution_count": 39,
   "metadata": {},
   "outputs": [],
   "source": [
    "import os\n",
    "import pandas as pd\n",
    "import numpy as np\n",
    "from IPython.display import Image\n",
    "from pgmpy.inference import VariableElimination\n",
    "from pgmpy.models import BayesianNetwork\n",
    "from pgmpy.sampling import BayesianModelSampling\n",
    "from pgmpy.factors.discrete import State\n",
    "import matplotlib.pylab as plt\n",
    "import networkx as nx"
   ]
  },
  {
   "cell_type": "markdown",
   "metadata": {},
   "source": [
    "The data used in the project were taken from the following sites:\n",
    "- Players regular season stats: National Basketball Association (NBA) official site [link](https://www.nba.com/stats/players/traditional/?sort=PLAYER_NAME&dir=-1&Season=2020-21&SeasonType=Regular%20Season)\n",
    "- Players info: Real GM [link](https://basketball.realgm.com/nba/players/2021)\n",
    "- Players salary: ESPN & Spotrac [link1](https://www.spotrac.com/nba/rankings/2020-21/cap-hit/) [link2](http://www.espn.com/nba/salaries/_/year/2021)\n",
    "\n",
    "I've collected them in two .csv files to easily load them in the notebook and then apply the necessary preprocessing."
   ]
  },
  {
   "cell_type": "code",
   "execution_count": 40,
   "metadata": {},
   "outputs": [],
   "source": [
    "# IMPORT DATABASES AS .CSV FILES\n",
    "df_stats = pd.read_csv('NBA_Stats_20-21.csv',delimiter=';')\n",
    "df_info = pd.read_csv('NBA_Players_Info_20-21.csv',delimiter=';')\n",
    "df_info.drop(['AGE','TEAM','GP'], axis = 1, inplace = True) # drop these columns because repeated\n",
    "\n",
    "df_original = pd.merge(df_stats, df_info, on=['PLAYER'], how='left')\n",
    "\n",
    "COLUMNS_TO_DROP = ['PLAYER', 'W', 'L', 'FGM', 'FGA', 'FG%', '3PM', '3PA', '3P%', \n",
    "                    'FTM', 'FTA', 'FT%', 'OREB', 'DREB', 'FP', 'DD2', 'TD3', 'COLLEGE',\n",
    "                    'PTS', 'STL', 'AST', 'PF', 'TOV', 'REB', 'BLK']\n",
    "\n",
    "ATLANTIC = ['BOS','BKN','NYK','PHI','TOR']\n",
    "CENTRAL = ['CHI','CLE','DET','IND','MIL']\n",
    "SOUTHEAST = ['ATL', 'MIA', 'WAS','CHA', 'ORL']\n",
    "NORTHWEST = ['DEN','MIN','OKC','POR','UTA']\n",
    "PACIFIC = ['GSW','LAC','LAL','PHX','SAC']\n",
    "SOUTHWEST = [ 'DAL','MEM', 'SAS', 'NOP', 'HOU']"
   ]
  },
  {
   "cell_type": "markdown",
   "metadata": {},
   "source": [
    "### **3. PREPROCESSING**"
   ]
  },
  {
   "cell_type": "code",
   "execution_count": 41,
   "metadata": {},
   "outputs": [
    {
     "data": {
      "text/html": [
       "<div>\n",
       "<style scoped>\n",
       "    .dataframe tbody tr th:only-of-type {\n",
       "        vertical-align: middle;\n",
       "    }\n",
       "\n",
       "    .dataframe tbody tr th {\n",
       "        vertical-align: top;\n",
       "    }\n",
       "\n",
       "    .dataframe thead th {\n",
       "        text-align: right;\n",
       "    }\n",
       "</style>\n",
       "<table border=\"1\" class=\"dataframe\">\n",
       "  <thead>\n",
       "    <tr style=\"text-align: right;\">\n",
       "      <th></th>\n",
       "      <th>PLAYER</th>\n",
       "      <th>TEAM</th>\n",
       "      <th>AGE</th>\n",
       "      <th>GP</th>\n",
       "      <th>W</th>\n",
       "      <th>L</th>\n",
       "      <th>MIN</th>\n",
       "      <th>PTS</th>\n",
       "      <th>FGM</th>\n",
       "      <th>FGA</th>\n",
       "      <th>...</th>\n",
       "      <th>+/-</th>\n",
       "      <th>PER</th>\n",
       "      <th>POS</th>\n",
       "      <th>HEIGHT</th>\n",
       "      <th>WEIGHT</th>\n",
       "      <th>YOS</th>\n",
       "      <th>COLLEGE</th>\n",
       "      <th>DRAFT</th>\n",
       "      <th>COUNTRY</th>\n",
       "      <th>SALARY</th>\n",
       "    </tr>\n",
       "  </thead>\n",
       "  <tbody>\n",
       "    <tr>\n",
       "      <th>0</th>\n",
       "      <td>Aaron Gordon</td>\n",
       "      <td>DEN</td>\n",
       "      <td>25</td>\n",
       "      <td>50</td>\n",
       "      <td>29</td>\n",
       "      <td>21</td>\n",
       "      <td>27.7</td>\n",
       "      <td>12.4</td>\n",
       "      <td>4.6</td>\n",
       "      <td>10.0</td>\n",
       "      <td>...</td>\n",
       "      <td>1.2</td>\n",
       "      <td>14.59</td>\n",
       "      <td>F</td>\n",
       "      <td>6-8</td>\n",
       "      <td>235</td>\n",
       "      <td>6</td>\n",
       "      <td>Arizona</td>\n",
       "      <td>2014 Rnd 1 Pick 4</td>\n",
       "      <td>United States</td>\n",
       "      <td>$18,136,364</td>\n",
       "    </tr>\n",
       "    <tr>\n",
       "      <th>1</th>\n",
       "      <td>Aaron Holiday</td>\n",
       "      <td>IND</td>\n",
       "      <td>24</td>\n",
       "      <td>66</td>\n",
       "      <td>30</td>\n",
       "      <td>36</td>\n",
       "      <td>17.8</td>\n",
       "      <td>7.2</td>\n",
       "      <td>2.6</td>\n",
       "      <td>6.6</td>\n",
       "      <td>...</td>\n",
       "      <td>0.0</td>\n",
       "      <td>9.29</td>\n",
       "      <td>PG</td>\n",
       "      <td>6-0</td>\n",
       "      <td>185</td>\n",
       "      <td>2</td>\n",
       "      <td>UCLA</td>\n",
       "      <td>2018 Rnd 1 Pick 23</td>\n",
       "      <td>United States</td>\n",
       "      <td>$2,345,640</td>\n",
       "    </tr>\n",
       "    <tr>\n",
       "      <th>2</th>\n",
       "      <td>Aaron Nesmith</td>\n",
       "      <td>BOS</td>\n",
       "      <td>21</td>\n",
       "      <td>46</td>\n",
       "      <td>22</td>\n",
       "      <td>24</td>\n",
       "      <td>14.5</td>\n",
       "      <td>4.7</td>\n",
       "      <td>1.7</td>\n",
       "      <td>3.9</td>\n",
       "      <td>...</td>\n",
       "      <td>-0.2</td>\n",
       "      <td>9.46</td>\n",
       "      <td>F</td>\n",
       "      <td>6-6</td>\n",
       "      <td>213</td>\n",
       "      <td>0</td>\n",
       "      <td>Vanderbilt</td>\n",
       "      <td>2020 Rnd 1 Pick 14</td>\n",
       "      <td>United States</td>\n",
       "      <td>$3,458,400</td>\n",
       "    </tr>\n",
       "    <tr>\n",
       "      <th>3</th>\n",
       "      <td>Abdel Nader</td>\n",
       "      <td>PHX</td>\n",
       "      <td>27</td>\n",
       "      <td>24</td>\n",
       "      <td>16</td>\n",
       "      <td>8</td>\n",
       "      <td>14.8</td>\n",
       "      <td>6.7</td>\n",
       "      <td>2.4</td>\n",
       "      <td>4.8</td>\n",
       "      <td>...</td>\n",
       "      <td>1.2</td>\n",
       "      <td>13.43</td>\n",
       "      <td>SF</td>\n",
       "      <td>6-6</td>\n",
       "      <td>225</td>\n",
       "      <td>3</td>\n",
       "      <td>Iowa State</td>\n",
       "      <td>2016 Rnd 2 Pick 28</td>\n",
       "      <td>United States</td>\n",
       "      <td>$1,752,950</td>\n",
       "    </tr>\n",
       "    <tr>\n",
       "      <th>4</th>\n",
       "      <td>Adam Mokoka</td>\n",
       "      <td>CHI</td>\n",
       "      <td>22</td>\n",
       "      <td>14</td>\n",
       "      <td>3</td>\n",
       "      <td>11</td>\n",
       "      <td>4.0</td>\n",
       "      <td>1.1</td>\n",
       "      <td>0.5</td>\n",
       "      <td>1.4</td>\n",
       "      <td>...</td>\n",
       "      <td>-0.6</td>\n",
       "      <td>2.30</td>\n",
       "      <td>SG</td>\n",
       "      <td>6-5</td>\n",
       "      <td>215</td>\n",
       "      <td>1</td>\n",
       "      <td>Other</td>\n",
       "      <td>2019 NBA Draft, Undrafted</td>\n",
       "      <td>France</td>\n",
       "      <td>$449,115</td>\n",
       "    </tr>\n",
       "  </tbody>\n",
       "</table>\n",
       "<p>5 rows × 38 columns</p>\n",
       "</div>"
      ],
      "text/plain": [
       "          PLAYER TEAM  AGE  GP   W   L   MIN   PTS  FGM   FGA  ...  +/-  \\\n",
       "0   Aaron Gordon  DEN   25  50  29  21  27.7  12.4  4.6  10.0  ...  1.2   \n",
       "1  Aaron Holiday  IND   24  66  30  36  17.8   7.2  2.6   6.6  ...  0.0   \n",
       "2  Aaron Nesmith  BOS   21  46  22  24  14.5   4.7  1.7   3.9  ... -0.2   \n",
       "3    Abdel Nader  PHX   27  24  16   8  14.8   6.7  2.4   4.8  ...  1.2   \n",
       "4    Adam Mokoka  CHI   22  14   3  11   4.0   1.1  0.5   1.4  ... -0.6   \n",
       "\n",
       "     PER  POS  HEIGHT  WEIGHT  YOS     COLLEGE                      DRAFT  \\\n",
       "0  14.59    F     6-8     235    6     Arizona          2014 Rnd 1 Pick 4   \n",
       "1   9.29   PG     6-0     185    2        UCLA         2018 Rnd 1 Pick 23   \n",
       "2   9.46    F     6-6     213    0  Vanderbilt         2020 Rnd 1 Pick 14   \n",
       "3  13.43   SF     6-6     225    3  Iowa State         2016 Rnd 2 Pick 28   \n",
       "4   2.30   SG     6-5     215    1       Other  2019 NBA Draft, Undrafted   \n",
       "\n",
       "         COUNTRY        SALARY  \n",
       "0  United States  $18,136,364   \n",
       "1  United States   $2,345,640   \n",
       "2  United States   $3,458,400   \n",
       "3  United States   $1,752,950   \n",
       "4         France      $449,115  \n",
       "\n",
       "[5 rows x 38 columns]"
      ]
     },
     "execution_count": 41,
     "metadata": {},
     "output_type": "execute_result"
    }
   ],
   "source": [
    "df_original.head() # print the whole dataframe"
   ]
  },
  {
   "cell_type": "markdown",
   "metadata": {},
   "source": [
    "As we can see, some of the categories are not numerical and can contain many different values, leading to CPTs that are too large to handle, while other ones are useless for our purpose. Thus it is clear how a preprocessing step is fundamental before using the database as input of the network. The procedure followed is to divide each category into intervals and then assign to each interval an integer, before applying the learning algorithm on them. So in the next cell, the database is manipulated as follows:\n",
    "- `DRAFT`: identifies if a player has been drafted in a pick of the first round (1), of the second round (2), or is never been drafted to enter in the league (3).\n",
    "- `TEAM`: teams are divided based on their geographical location (6 types) and an integer is associated with each region.\n",
    "- `POS`: players' roles are divided into the 5 fundamental positions of basketball.\n",
    "- `COUNTRY`: splits US players (2) and foreign players (1).\n",
    "- `AGE`, `HEIGHT`, `WEIGHT`, `MIN`, `GP`: identify respectively the age of a player, his height and weight, the minutes per game he played in the 20-21 regular season, and the number of games played. All these variables are already numerical so the values are simply split into bins.\n",
    "- `YOS`: indicates the number of career years played in the league. The possible values are split into 4 bins.\n",
    "- `PER`: the Player Efficiency Rating (PER) is a rating system developed by John Hollinger that aims to create a summative rating of each player in the NBA. It takes into account points signed, rebounds, assists, turnovers, steals, blocks, personal fouls, and many other variables per game, and produces as output a weighted rating for each player. It is recognized as a good parameter to evaluate the efficiency of a player, so in this project, it is used in place of the previous variables to not make the network too slow. Since the PER outcome is already an integer and could not be negative, the values start from 0 and are divided into 6 bins.\n",
    "- `+/-`: computes the performance of the team when a player is playing on the parquet. Thus a positive `+/-` of a player means that the team scored more points than the opponent (and vice versa) during the period he played, so the player has probably helped the team and played well. This is again a numerical variable that is simply split into 6 labels.\n",
    "- `SALARY`: since it represents the variable we are interested in, I've decided to split it into 8 different labels. In addition, the ranges are not equally distributed because most of the players in the league have a salary incredibly lower than the top 10 NBA players, so more weight is given to the salaries less than 10 million USD to equally distribute the players inside the bins."
   ]
  },
  {
   "cell_type": "code",
   "execution_count": 42,
   "metadata": {},
   "outputs": [],
   "source": [
    "# PREPROCESSING\n",
    "def preprocessing(df_original: pd.DataFrame):\n",
    "        \n",
    "         # DROP USELESS COLUMNS\n",
    "        df = df_original.drop(COLUMNS_TO_DROP, axis = 1)\n",
    "\n",
    "        for i in range(df.shape[0]):\n",
    "                # DRAFT ROUND (First round -> 1, Second round -> 2, Undrafted -> 3)\n",
    "                if ' 1 ' in str(df.loc[i,'DRAFT']): df.loc[i,'DRAFT'] = 1\n",
    "                elif ' 2 ' in str(df.loc[i,'DRAFT']): df.loc[i,'DRAFT'] = 2\n",
    "                else: df.loc[i,'DRAFT'] = 3\n",
    "\n",
    "                # TEAM (ATLANTIC -> 1, CENTRAL -> 2, SOUTHEAST -> 3, NORTHWEST -> 4, PACIFIC -> 5, SOUTHWEST -> 6)\n",
    "                if df.loc[i,'TEAM'] in ATLANTIC: df.loc[i,'TEAM'] = 1\n",
    "                elif df.loc[i,'TEAM'] in CENTRAL: df.loc[i,'TEAM'] = 2\n",
    "                elif df.loc[i,'TEAM'] in SOUTHEAST: df.loc[i,'TEAM'] = 3\n",
    "                elif df.loc[i,'TEAM'] in NORTHWEST: df.loc[i,'TEAM'] = 4\n",
    "                elif df.loc[i,'TEAM'] in PACIFIC: df.loc[i,'TEAM'] = 5\n",
    "                else: df.loc[i,'TEAM'] = 6\n",
    "\n",
    "                # ROLE (PG/G (point guard) -> 1, SG (shooting guard) -> 2, SF/GF (small forward) -> 3,\n",
    "                # PF/F (power forward) -> 4, FC/C (center) -> 5)\n",
    "                if df.loc[i,'POS'] == 'PG' or df.loc[i,'POS'] == 'G': df.loc[i,'POS'] = 1\n",
    "                elif df.loc[i,'POS'] == 'SG': df.loc[i,'POS'] = 2\n",
    "                elif df.loc[i,'POS'] == 'SF' or df.loc[i,'POS'] == 'GF': df.loc[i,'POS'] = 3\n",
    "                elif df.loc[i,'POS'] == 'PF' or df.loc[i,'POS'] == 'F': df.loc[i,'POS'] = 4\n",
    "                else: df.loc[i,'POS'] = 5 \n",
    "                \n",
    "                # CHANGE HEIGHT FROM FEET TO CM\n",
    "                height_nums = [int(value) for value in str(df.loc[i,'HEIGHT']).split('-')]\n",
    "                height_nums[1] += height_nums[0] * 12\n",
    "                h_cm = int(height_nums[1] * 2.54)\n",
    "                df.loc[i,'HEIGHT'] = h_cm\n",
    "\n",
    "        # COUNTRY (NOT('United States') -> 1, 'United States' -> 2)\n",
    "        df.loc[df['COUNTRY'] != 'United States', 'COUNTRY'] = 1\n",
    "        df.loc[df['COUNTRY'] == 'United States', 'COUNTRY'] = 2\n",
    "\n",
    "        # AGE (RANGES: (-INF)-24 -> 1, 25-29 -> 2, 30-34 -> 3,  35-INF -> 4)\n",
    "        df['AGE'] = pd.cut(df['AGE'], bins=[-np.inf, 24, 29, 34, np.inf], labels=[1,2,3,4])\n",
    "        \n",
    "        # HEIGHT (RANGES: (-INF)-179 -> 1, 180-189 -> 2, 190-199 -> 3, 200-209 -> 4, 210-INF -> 5)\n",
    "        df['HEIGHT'] = pd.cut(df['HEIGHT'], bins=[-np.inf, 179, 189, 199, 209, np.inf], labels=[1,2,3,4,5])\n",
    "\n",
    "        # WEIGHT (RANGES: (-INF)-199 -> 1, 200-219 -> 2, 220-239 -> 3, 240-259 -> 4, 260-INF -> 5)\n",
    "        df['WEIGHT'] = pd.cut(df['WEIGHT'], bins=[-np.inf, 199, 219, 239, 259, np.inf], labels=[1,2,3,4,5])\n",
    "\n",
    "        # AVERAGE MINUTES PLAYED (RANGES: (-INF)-4 -> 1, 5-9 -> 2, 10-14 -> 3, 15-19 -> 4, 20-24 -> 5, 25-29 -> 6, 30-INF -> 7)\n",
    "        df['MIN'] = pd.cut(df['MIN'], bins=[-np.inf, 4, 9, 14, 19, 24, 29, np.inf], labels=[1,2,3,4,5,6,7])\n",
    "\n",
    "        # GAMES PLAYED (RANGES: (-INF)-19 -> 1, 20-39 -> 2, 40-59 -> 3, 60-INF -> 4)\n",
    "        df['GP'] = pd.cut(df['GP'], bins=[-np.inf, 19, 39, 59, np.inf], labels=[1,2,3,4])\n",
    "\n",
    "        # YEARS IN THE LEAGUE (RANGES: (-INF)-3 -> 1, 4-6 -> 2, 7-9 -> 3, 10-INF -> 4)\n",
    "        df['YOS'] = pd.cut(df['YOS'], bins=[-np.inf, 3, 6, 9, np.inf], labels=[1,2,3,4])\n",
    "\n",
    "        # PLAYER EFFICIENCY RATING (RANGES: (-INF)-4 -> 1, 5-9 -> 2, 10-14 -> 3, 15-19 -> 4, 20-24 -> 5, 25-INF -> 6)\n",
    "        df['PER'] = pd.cut(df['PER'], bins=[-np.inf, 4, 9, 14, 19, 24, np.inf], labels=[1,2,3,4,5,6])\n",
    "\n",
    "        # PLUS/MINUS (RANGES: (-INF)-(-5) -> 1, (-4)-(-2) -> 2, (-1)-0 -> 3, 1-2 -> 4, 3-5 -> 5, 6-INF -> 6)\n",
    "        df['+/-'] = pd.cut(df['+/-'], bins=[-np.inf, -5, -2, 0, 2, 5, np.inf], labels=[1,2,3,4,5,6])\n",
    "\n",
    "        # PLAYER SALARY (RANGES: (-INF)-1M -> 1, 2M-3M -> 2, 4M-5M -> 3, 6M-7M -> 4, 8M-9M -> 5, 10M-19M -> 6\n",
    "        # 20M-29M -> 7, 30M-INF -> 8)\n",
    "        df['SALARY'] = df['SALARY'].str.replace(r'\\D', '', regex = True).astype(int)\n",
    "        df['SALARY'] = pd.cut(df['SALARY'], \n",
    "                              bins=[-np.inf, 1000000, 3000000, 5000000, 7000000, 9000000, 19000000, 29000000, np.inf], \n",
    "                              labels=[1,2,3,4,5,6,7,8])\n",
    "        \n",
    "        return df"
   ]
  },
  {
   "cell_type": "markdown",
   "metadata": {},
   "source": [
    "Now that we have made the preprocessing phase, we can save the database as `.csv` file, to inspect it deeper if required."
   ]
  },
  {
   "cell_type": "code",
   "execution_count": 43,
   "metadata": {},
   "outputs": [
    {
     "data": {
      "text/html": [
       "<div>\n",
       "<style scoped>\n",
       "    .dataframe tbody tr th:only-of-type {\n",
       "        vertical-align: middle;\n",
       "    }\n",
       "\n",
       "    .dataframe tbody tr th {\n",
       "        vertical-align: top;\n",
       "    }\n",
       "\n",
       "    .dataframe thead th {\n",
       "        text-align: right;\n",
       "    }\n",
       "</style>\n",
       "<table border=\"1\" class=\"dataframe\">\n",
       "  <thead>\n",
       "    <tr style=\"text-align: right;\">\n",
       "      <th></th>\n",
       "      <th>TEAM</th>\n",
       "      <th>AGE</th>\n",
       "      <th>GP</th>\n",
       "      <th>MIN</th>\n",
       "      <th>+/-</th>\n",
       "      <th>PER</th>\n",
       "      <th>POS</th>\n",
       "      <th>HEIGHT</th>\n",
       "      <th>WEIGHT</th>\n",
       "      <th>YOS</th>\n",
       "      <th>DRAFT</th>\n",
       "      <th>COUNTRY</th>\n",
       "      <th>SALARY</th>\n",
       "    </tr>\n",
       "  </thead>\n",
       "  <tbody>\n",
       "    <tr>\n",
       "      <th>0</th>\n",
       "      <td>4</td>\n",
       "      <td>2</td>\n",
       "      <td>3</td>\n",
       "      <td>6</td>\n",
       "      <td>4</td>\n",
       "      <td>4</td>\n",
       "      <td>4</td>\n",
       "      <td>4</td>\n",
       "      <td>3</td>\n",
       "      <td>2</td>\n",
       "      <td>1</td>\n",
       "      <td>2</td>\n",
       "      <td>6</td>\n",
       "    </tr>\n",
       "    <tr>\n",
       "      <th>1</th>\n",
       "      <td>2</td>\n",
       "      <td>1</td>\n",
       "      <td>4</td>\n",
       "      <td>4</td>\n",
       "      <td>3</td>\n",
       "      <td>3</td>\n",
       "      <td>1</td>\n",
       "      <td>2</td>\n",
       "      <td>1</td>\n",
       "      <td>1</td>\n",
       "      <td>1</td>\n",
       "      <td>2</td>\n",
       "      <td>2</td>\n",
       "    </tr>\n",
       "    <tr>\n",
       "      <th>2</th>\n",
       "      <td>1</td>\n",
       "      <td>1</td>\n",
       "      <td>3</td>\n",
       "      <td>4</td>\n",
       "      <td>3</td>\n",
       "      <td>3</td>\n",
       "      <td>4</td>\n",
       "      <td>3</td>\n",
       "      <td>2</td>\n",
       "      <td>1</td>\n",
       "      <td>1</td>\n",
       "      <td>2</td>\n",
       "      <td>3</td>\n",
       "    </tr>\n",
       "    <tr>\n",
       "      <th>3</th>\n",
       "      <td>5</td>\n",
       "      <td>2</td>\n",
       "      <td>2</td>\n",
       "      <td>4</td>\n",
       "      <td>4</td>\n",
       "      <td>3</td>\n",
       "      <td>3</td>\n",
       "      <td>3</td>\n",
       "      <td>3</td>\n",
       "      <td>1</td>\n",
       "      <td>2</td>\n",
       "      <td>2</td>\n",
       "      <td>2</td>\n",
       "    </tr>\n",
       "    <tr>\n",
       "      <th>4</th>\n",
       "      <td>2</td>\n",
       "      <td>1</td>\n",
       "      <td>1</td>\n",
       "      <td>1</td>\n",
       "      <td>3</td>\n",
       "      <td>1</td>\n",
       "      <td>2</td>\n",
       "      <td>3</td>\n",
       "      <td>2</td>\n",
       "      <td>1</td>\n",
       "      <td>3</td>\n",
       "      <td>1</td>\n",
       "      <td>1</td>\n",
       "    </tr>\n",
       "  </tbody>\n",
       "</table>\n",
       "</div>"
      ],
      "text/plain": [
       "  TEAM AGE GP MIN +/- PER POS HEIGHT WEIGHT YOS DRAFT COUNTRY SALARY\n",
       "0    4   2  3   6   4   4   4      4      3   2     1       2      6\n",
       "1    2   1  4   4   3   3   1      2      1   1     1       2      2\n",
       "2    1   1  3   4   3   3   4      3      2   1     1       2      3\n",
       "3    5   2  2   4   4   3   3      3      3   1     2       2      2\n",
       "4    2   1  1   1   3   1   2      3      2   1     3       1      1"
      ]
     },
     "execution_count": 43,
     "metadata": {},
     "output_type": "execute_result"
    }
   ],
   "source": [
    "# SAVE DATABASE AND SHOW\n",
    "if not os.path.exists('NBA_Dataframe.CSV'):\n",
    "    df = preprocessing(df_original)\n",
    "    df.to_csv('NBA_Dataframe.CSV', sep=',', na_rep='NaN', index=False)\n",
    "else:\n",
    "    df = pd.read_csv('NBA_Dataframe.CSV')\n",
    "\n",
    "df.head()"
   ]
  },
  {
   "cell_type": "markdown",
   "metadata": {},
   "source": [
    "The database is now a pandas `DataFrame` and seems to be processed correctly because no error was raised. The only problem that can be occurred and that cannot be detected is that some values are not present between the ranges of the bins of some categories, producing a `NaN` as output. To be sure that this didn't happen, we can check if `NaNs` are present in the freshly created dataframe."
   ]
  },
  {
   "cell_type": "code",
   "execution_count": 44,
   "metadata": {},
   "outputs": [
    {
     "name": "stdout",
     "output_type": "stream",
     "text": [
      "Are there NaNs in the dataframe? No\n"
     ]
    }
   ],
   "source": [
    "print(\"Are there NaNs in the dataframe?\", \"Yes\" if True in df.isnull() else \"No\")"
   ]
  },
  {
   "cell_type": "markdown",
   "metadata": {},
   "source": [
    "### **4. BAYESIAN NETWORK IMPLEMENTATION**\n",
    "\n",
    "We can proceed by building the Bayesian Network."
   ]
  },
  {
   "cell_type": "code",
   "execution_count": 45,
   "metadata": {},
   "outputs": [],
   "source": [
    "# Design the network structure \n",
    "model = BayesianNetwork([('AGE','YOS'), ('AGE','GP'), ('COUNTRY','YOS'), ('YOS','MIN'), ('DRAFT','MIN'), ('GP','+/-'), ('MIN','+/-'), \n",
    "                        ('HEIGHT','POS'), ('WEIGHT','POS'), ('MIN','PER'), ('POS','PER'), ('TEAM','PER'), ('TEAM','+/-'),\n",
    "                        ('PER','SALARY'), ('+/-','SALARY')])\n",
    "\n",
    "# Fit data to model\n",
    "model.fit(df)\n",
    "\n",
    "# Check if model is correct\n",
    "if not model.check_model():\n",
    "    print(\"Incorrect model!\")"
   ]
  },
  {
   "cell_type": "markdown",
   "metadata": {},
   "source": [
    "Let's plot the network."
   ]
  },
  {
   "cell_type": "code",
   "execution_count": 46,
   "metadata": {},
   "outputs": [
    {
     "data": {
      "image/png": "[encoded data removed]",
      "text/plain": [
       "<Figure size 432x288 with 1 Axes>"
      ]
     },
     "metadata": {},
     "output_type": "display_data"
    }
   ],
   "source": [
    "# Show the topology of the network\n",
    "nx.draw_planar(model,with_labels=True)\n",
    "plt.show()"
   ]
  },
  {
   "cell_type": "markdown",
   "metadata": {},
   "source": [
    "In the next cell is plotted an image taken from the project folder, showing more clearly the structure of the network, in order to allow a better understanding before starting the predictions."
   ]
  },
  {
   "cell_type": "code",
   "execution_count": 47,
   "metadata": {},
   "outputs": [
    {
     "data": {
      "image/png": "[encoded data removed]",
      "text/plain": [
       "<IPython.core.display.Image object>"
      ]
     },
     "execution_count": 47,
     "metadata": {
      "image/png": {
       "height": 759,
       "width": 759
      }
     },
     "output_type": "execute_result"
    }
   ],
   "source": [
    "Image(filename='BN_v3.png', retina = True)"
   ]
  },
  {
   "cell_type": "markdown",
   "metadata": {},
   "source": [
    "Great, the network has been built well. We can print one of the Conditional Probability Distribution (CPD) tables to understand how it is made and how it works."
   ]
  },
  {
   "cell_type": "code",
   "execution_count": 48,
   "metadata": {},
   "outputs": [
    {
     "name": "stdout",
     "output_type": "stream",
     "text": [
      "+--------+-----------+-----------+-----+----------------------+\n",
      "| HEIGHT | HEIGHT(1) | HEIGHT(1) | ... | HEIGHT(5)            |\n",
      "+--------+-----------+-----------+-----+----------------------+\n",
      "| WEIGHT | WEIGHT(1) | WEIGHT(2) | ... | WEIGHT(5)            |\n",
      "+--------+-----------+-----------+-----+----------------------+\n",
      "| POS(1) | 1.0       | 0.2       | ... | 0.0                  |\n",
      "+--------+-----------+-----------+-----+----------------------+\n",
      "| POS(2) | 0.0       | 0.2       | ... | 0.0                  |\n",
      "+--------+-----------+-----------+-----+----------------------+\n",
      "| POS(3) | 0.0       | 0.2       | ... | 0.0                  |\n",
      "+--------+-----------+-----------+-----+----------------------+\n",
      "| POS(4) | 0.0       | 0.2       | ... | 0.058823529411764705 |\n",
      "+--------+-----------+-----------+-----+----------------------+\n",
      "| POS(5) | 0.0       | 0.2       | ... | 0.9411764705882353   |\n",
      "+--------+-----------+-----------+-----+----------------------+\n"
     ]
    }
   ],
   "source": [
    "# Create 'POS' CPD\n",
    "cpd = model.get_cpds('POS')\n",
    "print(cpd)"
   ]
  },
  {
   "cell_type": "markdown",
   "metadata": {},
   "source": [
    "By looking for instance to the first cell of the table, we can say that the probability for a player to be a Point Guard (PG) or a Guard (G) given that it has a height less than 180 cm and a weight less than 200 lbs is of 100%. On the other side, the probability for a player to be a Center (C/FC) given that it has a height greater than 210 cm and a weight greater than 260 lbs is approximately 94%. These results are reasonably correct, thus the network seems to produce the right CPDs."
   ]
  },
  {
   "cell_type": "markdown",
   "metadata": {},
   "source": [
    "The notion of independence is a key in the power of Bayesian networks, which can represent essentially any full joint probability distribution very concisely if each node is conditionally independent of its other predecessors given its parents. Independence assertions are usually based on knowledge of the domain and can dramatically reduce the amount of information necessary to specify the full joint distribution and so the complexity of the inference problem. Unfortunately, a clean separation of entire sets of variables by independence is quite rare. Bayesian networks leverage conditional independence between variables, given other variables. Conditional independence assertions are brought by direct causal relationships in the domain and can allow probabilistic systems to scale up. Moreover, they are much more commonly available than absolute independence assertions.\n",
    "\n",
    "To understand how independence works in Bayesian Networks, we can start by showing the local independencies of nodes `YOS` and `+/-`:"
   ]
  },
  {
   "cell_type": "code",
   "execution_count": 49,
   "metadata": {},
   "outputs": [
    {
     "name": "stdout",
     "output_type": "stream",
     "text": [
      "(YOS ⟂ TEAM, WEIGHT, POS, DRAFT, HEIGHT, GP | COUNTRY, AGE)\n",
      "(+/- ⟂ WEIGHT, COUNTRY, HEIGHT, PER, YOS, AGE, POS, DRAFT | TEAM, GP, MIN)\n"
     ]
    }
   ],
   "source": [
    "# Local independencies for 'YOS' and '+/-'\n",
    "print(model.local_independencies('YOS'))\n",
    "print(model.local_independencies('+/-'))"
   ]
  },
  {
   "cell_type": "markdown",
   "metadata": {},
   "source": [
    "As we can see, given their parents, the nodes are independent of all the other ones which cannot be reached directly.\n",
    "\n",
    "Another important independence property is implied by the topology of the network semantics: a node is conditionally independent of all other nodes in the network, given its parents, children, and children’s parents (given its Markov Blanket).\n",
    "\n",
    "In this case, we can print the Markov Blanket of the node `+/-` :"
   ]
  },
  {
   "cell_type": "code",
   "execution_count": 50,
   "metadata": {},
   "outputs": [
    {
     "data": {
      "text/plain": [
       "['TEAM', 'SALARY', 'MIN', 'PER', 'GP']"
      ]
     },
     "execution_count": 50,
     "metadata": {},
     "output_type": "execute_result"
    }
   ],
   "source": [
    "# Markov blanket for '+/-'\n",
    "model.get_markov_blanket('+/-')"
   ]
  },
  {
   "cell_type": "markdown",
   "metadata": {},
   "source": [
    "In particular, the nodes `TEAM`, `GP` and `MIN` are the parents, `SALARY` is the children, while `PER` is the children's parent."
   ]
  },
  {
   "cell_type": "markdown",
   "metadata": {},
   "source": [
    "Now that we know how independence works in Bayesian Networks, we can use the method `active_trail_nodes` of `pgmpy`. By calling it on the node `AGE`, we can determine if exists an active trail between this one and all the nodes of the network, showing as output the set of these nodes."
   ]
  },
  {
   "cell_type": "code",
   "execution_count": 51,
   "metadata": {},
   "outputs": [
    {
     "name": "stdout",
     "output_type": "stream",
     "text": [
      "{'AGE': {'+/-', 'PER', 'YOS', 'AGE', 'SALARY', 'GP', 'MIN'}}\n",
      "{'AGE': {'TEAM', 'COUNTRY', 'WEIGHT', 'HEIGHT', 'SALARY', 'MIN', '+/-', 'YOS', 'AGE', 'POS', 'DRAFT', 'GP'}}\n"
     ]
    }
   ],
   "source": [
    "# Get active trail nodes\n",
    "print(model.active_trail_nodes('AGE'))\n",
    "print(model.active_trail_nodes('AGE', observed='PER'))"
   ]
  },
  {
   "cell_type": "markdown",
   "metadata": {},
   "source": [
    "An important aspect to notice is that by introducing `PER` as observed node, the nodes `TEAM`, `COUNTRY`, `POS`, `HEIGHT` and `WEIGHT` could be reached by an active trail starting from `AGE`, while this wasn't true previously.\n",
    "\n",
    "Now let's see if it really exists an active trail between `AGE` and `PER`, and then what happens if we insert as observed node `MIN`:"
   ]
  },
  {
   "cell_type": "code",
   "execution_count": 52,
   "metadata": {},
   "outputs": [
    {
     "name": "stdout",
     "output_type": "stream",
     "text": [
      "True\n",
      "False\n"
     ]
    }
   ],
   "source": [
    "# Check for d-separation between variables\n",
    "print(model.is_dconnected('AGE', 'PER'))\n",
    "print(model.is_dconnected('AGE', 'PER', observed=['MIN']))"
   ]
  },
  {
   "cell_type": "markdown",
   "metadata": {},
   "source": [
    "So it has been confirmed that the two previous nodes are d-connected, but as we expected if we insert a third node in the active trail the connection is no longer true."
   ]
  },
  {
   "cell_type": "markdown",
   "metadata": {},
   "source": [
    "### **5. INFERENCE**\n",
    "\n",
    "In this section, I will try to fulfill the purposes of the project:\n",
    "- The first one is to evaluate the salaries of the players. I will start by computing the salaries obtained by players with certain characteristics, and from there go back to the other ones with a pay different from the average. At this point, it will be analyzed the disparities between these players and the ones with an adequate salary, to understand if exists a valid reason for such an important difference or not. \n",
    "- The second purpose is instead more statistical and concerns an analysis of the NBA players' characteristics in general. Predictions will be made on the career expectancy in the league, on the probability of injuries with age, and finally, a brief evaluation will be made about players' salaries concerning their role and country of origin.\n",
    "\n",
    "We can start by defining a fundamental function that will be used to inference different types of probabilities from the network. `exact_inference` in fact computes analytically the posterior probability distribution for a set of query variables, given some observed event. To perform exact inference, I used the `VariableElimination` algorithm of `pgmpy`, which is more efficient with respect to inference by enumeration. Bayesian Networks are very useful for making predictions, following the relationship between variables in the causal direction, as well as for diagnostic reasons, when we perceive as evidence some effect that we want to explain by determining its probable cause. Unfortunately, sometimes performing exact inference is not possible due to very large network with many nodes. `approximate_inference` addresses this issue by approximating the posterior probability distribution with a sampling method. As previously said in the section 3, to not overcomplicate the network I've decided to incorporate average points scored, assists, and other personal statistics within the `PER` node. Without this simplification the network would take a long time to perform even a single exact inference. In the next cell is defined also the function that allows to perform the approximate inference with the `BayesianModelSampling` algorithm. It will be used in the last cell of the notebook to make a comparison between the exact and approximate inference, in order to see if it might be useful to use it instead of exact inference to speed up the computations with a larger network."
   ]
  },
  {
   "cell_type": "code",
   "execution_count": 53,
   "metadata": {},
   "outputs": [],
   "source": [
    "# Create exact inference using Variable Elimination\n",
    "exact_inference = VariableElimination(model)\n",
    "# Create approximate inference using Bayesian Model Sampling\n",
    "approximate_inference = BayesianModelSampling(model) "
   ]
  },
  {
   "cell_type": "markdown",
   "metadata": {},
   "source": [
    "##### **5.1 SALARY INFERENCE**"
   ]
  },
  {
   "cell_type": "markdown",
   "metadata": {},
   "source": [
    "Let's start by computing the salary's probabilities for a player with `PER = 6` and `+/- = 5`."
   ]
  },
  {
   "cell_type": "code",
   "execution_count": 54,
   "metadata": {},
   "outputs": [
    {
     "name": "stdout",
     "output_type": "stream",
     "text": [
      "+-----------+---------------+\n",
      "| SALARY    |   phi(SALARY) |\n",
      "+===========+===============+\n",
      "| SALARY(1) |        0.1000 |\n",
      "+-----------+---------------+\n",
      "| SALARY(2) |        0.1000 |\n",
      "+-----------+---------------+\n",
      "| SALARY(3) |        0.0000 |\n",
      "+-----------+---------------+\n",
      "| SALARY(4) |        0.0000 |\n",
      "+-----------+---------------+\n",
      "| SALARY(5) |        0.1000 |\n",
      "+-----------+---------------+\n",
      "| SALARY(6) |        0.2000 |\n",
      "+-----------+---------------+\n",
      "| SALARY(7) |        0.0000 |\n",
      "+-----------+---------------+\n",
      "| SALARY(8) |        0.5000 |\n",
      "+-----------+---------------+\n"
     ]
    }
   ],
   "source": [
    "query1 = exact_inference.query(['SALARY'], evidence = {'PER':6,'+/-':5}, show_progress = False)\n",
    "print(query1)"
   ]
  },
  {
   "cell_type": "markdown",
   "metadata": {},
   "source": [
    "The CPT shows that 50% of the players with these characteristics have a salary greater than 30M of dollars, which is the higher range of the league. This result is expected since having such a high `PER` and `+/-` means being among the best athletes in the league. Nevertheless, there are also small probabilities not only to have a salary slightly lower but also among the lowest in the NBA.\n",
    "\n",
    "Let's start by comparing the characteristics of players with `SALARY = 5`, `SALARY = 6` and `SALARY = 8` and the same values of `PER` and `+/-` as before:"
   ]
  },
  {
   "cell_type": "code",
   "execution_count": 55,
   "metadata": {},
   "outputs": [
    {
     "data": {
      "text/html": [
       "<div>\n",
       "<style scoped>\n",
       "    .dataframe tbody tr th:only-of-type {\n",
       "        vertical-align: middle;\n",
       "    }\n",
       "\n",
       "    .dataframe tbody tr th {\n",
       "        vertical-align: top;\n",
       "    }\n",
       "\n",
       "    .dataframe thead th {\n",
       "        text-align: right;\n",
       "    }\n",
       "</style>\n",
       "<table border=\"1\" class=\"dataframe\">\n",
       "  <thead>\n",
       "    <tr style=\"text-align: right;\">\n",
       "      <th></th>\n",
       "      <th>TEAM</th>\n",
       "      <th>AGE</th>\n",
       "      <th>GP</th>\n",
       "      <th>MIN</th>\n",
       "      <th>+/-</th>\n",
       "      <th>PER</th>\n",
       "      <th>POS</th>\n",
       "      <th>HEIGHT</th>\n",
       "      <th>WEIGHT</th>\n",
       "      <th>YOS</th>\n",
       "      <th>DRAFT</th>\n",
       "      <th>COUNTRY</th>\n",
       "      <th>SALARY</th>\n",
       "    </tr>\n",
       "  </thead>\n",
       "  <tbody>\n",
       "    <tr>\n",
       "      <th>81</th>\n",
       "      <td>3</td>\n",
       "      <td>2</td>\n",
       "      <td>4</td>\n",
       "      <td>7</td>\n",
       "      <td>5</td>\n",
       "      <td>6</td>\n",
       "      <td>4</td>\n",
       "      <td>4</td>\n",
       "      <td>4</td>\n",
       "      <td>2</td>\n",
       "      <td>1</td>\n",
       "      <td>1</td>\n",
       "      <td>6</td>\n",
       "    </tr>\n",
       "    <tr>\n",
       "      <th>93</th>\n",
       "      <td>4</td>\n",
       "      <td>3</td>\n",
       "      <td>4</td>\n",
       "      <td>7</td>\n",
       "      <td>5</td>\n",
       "      <td>6</td>\n",
       "      <td>1</td>\n",
       "      <td>2</td>\n",
       "      <td>1</td>\n",
       "      <td>3</td>\n",
       "      <td>1</td>\n",
       "      <td>2</td>\n",
       "      <td>8</td>\n",
       "    </tr>\n",
       "    <tr>\n",
       "      <th>229</th>\n",
       "      <td>1</td>\n",
       "      <td>3</td>\n",
       "      <td>3</td>\n",
       "      <td>7</td>\n",
       "      <td>5</td>\n",
       "      <td>6</td>\n",
       "      <td>2</td>\n",
       "      <td>3</td>\n",
       "      <td>3</td>\n",
       "      <td>4</td>\n",
       "      <td>1</td>\n",
       "      <td>2</td>\n",
       "      <td>8</td>\n",
       "    </tr>\n",
       "    <tr>\n",
       "      <th>257</th>\n",
       "      <td>3</td>\n",
       "      <td>3</td>\n",
       "      <td>3</td>\n",
       "      <td>7</td>\n",
       "      <td>5</td>\n",
       "      <td>6</td>\n",
       "      <td>3</td>\n",
       "      <td>4</td>\n",
       "      <td>3</td>\n",
       "      <td>3</td>\n",
       "      <td>1</td>\n",
       "      <td>2</td>\n",
       "      <td>8</td>\n",
       "    </tr>\n",
       "    <tr>\n",
       "      <th>264</th>\n",
       "      <td>6</td>\n",
       "      <td>2</td>\n",
       "      <td>4</td>\n",
       "      <td>6</td>\n",
       "      <td>5</td>\n",
       "      <td>6</td>\n",
       "      <td>5</td>\n",
       "      <td>5</td>\n",
       "      <td>5</td>\n",
       "      <td>3</td>\n",
       "      <td>1</td>\n",
       "      <td>1</td>\n",
       "      <td>6</td>\n",
       "    </tr>\n",
       "    <tr>\n",
       "      <th>324</th>\n",
       "      <td>1</td>\n",
       "      <td>2</td>\n",
       "      <td>3</td>\n",
       "      <td>7</td>\n",
       "      <td>5</td>\n",
       "      <td>6</td>\n",
       "      <td>1</td>\n",
       "      <td>2</td>\n",
       "      <td>1</td>\n",
       "      <td>3</td>\n",
       "      <td>1</td>\n",
       "      <td>2</td>\n",
       "      <td>8</td>\n",
       "    </tr>\n",
       "    <tr>\n",
       "      <th>339</th>\n",
       "      <td>6</td>\n",
       "      <td>1</td>\n",
       "      <td>4</td>\n",
       "      <td>7</td>\n",
       "      <td>5</td>\n",
       "      <td>6</td>\n",
       "      <td>3</td>\n",
       "      <td>4</td>\n",
       "      <td>3</td>\n",
       "      <td>1</td>\n",
       "      <td>1</td>\n",
       "      <td>1</td>\n",
       "      <td>5</td>\n",
       "    </tr>\n",
       "    <tr>\n",
       "      <th>470</th>\n",
       "      <td>5</td>\n",
       "      <td>3</td>\n",
       "      <td>4</td>\n",
       "      <td>7</td>\n",
       "      <td>5</td>\n",
       "      <td>6</td>\n",
       "      <td>1</td>\n",
       "      <td>3</td>\n",
       "      <td>1</td>\n",
       "      <td>4</td>\n",
       "      <td>1</td>\n",
       "      <td>2</td>\n",
       "      <td>8</td>\n",
       "    </tr>\n",
       "  </tbody>\n",
       "</table>\n",
       "</div>"
      ],
      "text/plain": [
       "    TEAM AGE GP MIN +/- PER POS HEIGHT WEIGHT YOS DRAFT COUNTRY SALARY\n",
       "81     3   2  4   7   5   6   4      4      4   2     1       1      6\n",
       "93     4   3  4   7   5   6   1      2      1   3     1       2      8\n",
       "229    1   3  3   7   5   6   2      3      3   4     1       2      8\n",
       "257    3   3  3   7   5   6   3      4      3   3     1       2      8\n",
       "264    6   2  4   6   5   6   5      5      5   3     1       1      6\n",
       "324    1   2  3   7   5   6   1      2      1   3     1       2      8\n",
       "339    6   1  4   7   5   6   3      4      3   1     1       1      5\n",
       "470    5   3  4   7   5   6   1      3      1   4     1       2      8"
      ]
     },
     "execution_count": 55,
     "metadata": {},
     "output_type": "execute_result"
    }
   ],
   "source": [
    "df_temp = df.loc[((df['SALARY'] == 5) | (df['SALARY'] == 6) | (df['SALARY'] == 8)) & (df['PER'] == 6) & (df['+/-'] == 5)]\n",
    "df_temp.head(10)"
   ]
  },
  {
   "cell_type": "markdown",
   "metadata": {},
   "source": [
    "The main difference seems in the country.\n",
    "\n",
    "Now let's compare the characteristics of players with `SALARY = 1`, `SALARY = 2` and `SALARY = 8`:"
   ]
  },
  {
   "cell_type": "code",
   "execution_count": 56,
   "metadata": {},
   "outputs": [
    {
     "data": {
      "text/html": [
       "<div>\n",
       "<style scoped>\n",
       "    .dataframe tbody tr th:only-of-type {\n",
       "        vertical-align: middle;\n",
       "    }\n",
       "\n",
       "    .dataframe tbody tr th {\n",
       "        vertical-align: top;\n",
       "    }\n",
       "\n",
       "    .dataframe thead th {\n",
       "        text-align: right;\n",
       "    }\n",
       "</style>\n",
       "<table border=\"1\" class=\"dataframe\">\n",
       "  <thead>\n",
       "    <tr style=\"text-align: right;\">\n",
       "      <th></th>\n",
       "      <th>TEAM</th>\n",
       "      <th>AGE</th>\n",
       "      <th>GP</th>\n",
       "      <th>MIN</th>\n",
       "      <th>+/-</th>\n",
       "      <th>PER</th>\n",
       "      <th>POS</th>\n",
       "      <th>HEIGHT</th>\n",
       "      <th>WEIGHT</th>\n",
       "      <th>YOS</th>\n",
       "      <th>DRAFT</th>\n",
       "      <th>COUNTRY</th>\n",
       "      <th>SALARY</th>\n",
       "    </tr>\n",
       "  </thead>\n",
       "  <tbody>\n",
       "    <tr>\n",
       "      <th>93</th>\n",
       "      <td>4</td>\n",
       "      <td>3</td>\n",
       "      <td>4</td>\n",
       "      <td>7</td>\n",
       "      <td>5</td>\n",
       "      <td>6</td>\n",
       "      <td>1</td>\n",
       "      <td>2</td>\n",
       "      <td>1</td>\n",
       "      <td>3</td>\n",
       "      <td>1</td>\n",
       "      <td>2</td>\n",
       "      <td>8</td>\n",
       "    </tr>\n",
       "    <tr>\n",
       "      <th>138</th>\n",
       "      <td>3</td>\n",
       "      <td>3</td>\n",
       "      <td>1</td>\n",
       "      <td>3</td>\n",
       "      <td>5</td>\n",
       "      <td>6</td>\n",
       "      <td>4</td>\n",
       "      <td>5</td>\n",
       "      <td>4</td>\n",
       "      <td>3</td>\n",
       "      <td>3</td>\n",
       "      <td>2</td>\n",
       "      <td>1</td>\n",
       "    </tr>\n",
       "    <tr>\n",
       "      <th>229</th>\n",
       "      <td>1</td>\n",
       "      <td>3</td>\n",
       "      <td>3</td>\n",
       "      <td>7</td>\n",
       "      <td>5</td>\n",
       "      <td>6</td>\n",
       "      <td>2</td>\n",
       "      <td>3</td>\n",
       "      <td>3</td>\n",
       "      <td>4</td>\n",
       "      <td>1</td>\n",
       "      <td>2</td>\n",
       "      <td>8</td>\n",
       "    </tr>\n",
       "    <tr>\n",
       "      <th>257</th>\n",
       "      <td>3</td>\n",
       "      <td>3</td>\n",
       "      <td>3</td>\n",
       "      <td>7</td>\n",
       "      <td>5</td>\n",
       "      <td>6</td>\n",
       "      <td>3</td>\n",
       "      <td>4</td>\n",
       "      <td>3</td>\n",
       "      <td>3</td>\n",
       "      <td>1</td>\n",
       "      <td>2</td>\n",
       "      <td>8</td>\n",
       "    </tr>\n",
       "    <tr>\n",
       "      <th>324</th>\n",
       "      <td>1</td>\n",
       "      <td>2</td>\n",
       "      <td>3</td>\n",
       "      <td>7</td>\n",
       "      <td>5</td>\n",
       "      <td>6</td>\n",
       "      <td>1</td>\n",
       "      <td>2</td>\n",
       "      <td>1</td>\n",
       "      <td>3</td>\n",
       "      <td>1</td>\n",
       "      <td>2</td>\n",
       "      <td>8</td>\n",
       "    </tr>\n",
       "    <tr>\n",
       "      <th>470</th>\n",
       "      <td>5</td>\n",
       "      <td>3</td>\n",
       "      <td>4</td>\n",
       "      <td>7</td>\n",
       "      <td>5</td>\n",
       "      <td>6</td>\n",
       "      <td>1</td>\n",
       "      <td>3</td>\n",
       "      <td>1</td>\n",
       "      <td>4</td>\n",
       "      <td>1</td>\n",
       "      <td>2</td>\n",
       "      <td>8</td>\n",
       "    </tr>\n",
       "    <tr>\n",
       "      <th>520</th>\n",
       "      <td>3</td>\n",
       "      <td>4</td>\n",
       "      <td>1</td>\n",
       "      <td>1</td>\n",
       "      <td>5</td>\n",
       "      <td>6</td>\n",
       "      <td>5</td>\n",
       "      <td>4</td>\n",
       "      <td>3</td>\n",
       "      <td>4</td>\n",
       "      <td>3</td>\n",
       "      <td>2</td>\n",
       "      <td>2</td>\n",
       "    </tr>\n",
       "  </tbody>\n",
       "</table>\n",
       "</div>"
      ],
      "text/plain": [
       "    TEAM AGE GP MIN +/- PER POS HEIGHT WEIGHT YOS DRAFT COUNTRY SALARY\n",
       "93     4   3  4   7   5   6   1      2      1   3     1       2      8\n",
       "138    3   3  1   3   5   6   4      5      4   3     3       2      1\n",
       "229    1   3  3   7   5   6   2      3      3   4     1       2      8\n",
       "257    3   3  3   7   5   6   3      4      3   3     1       2      8\n",
       "324    1   2  3   7   5   6   1      2      1   3     1       2      8\n",
       "470    5   3  4   7   5   6   1      3      1   4     1       2      8\n",
       "520    3   4  1   1   5   6   5      4      3   4     3       2      2"
      ]
     },
     "execution_count": 56,
     "metadata": {},
     "output_type": "execute_result"
    }
   ],
   "source": [
    "df_temp = df.loc[((df['SALARY'] == 1) | (df['SALARY'] == 2) | (df['SALARY'] == 8)) & (df['PER'] == 6) & (df['+/-'] == 5)]\n",
    "df_temp.head(10)"
   ]
  },
  {
   "cell_type": "markdown",
   "metadata": {},
   "source": [
    "In this case, the two players with such a low salary have simply played a few minutes in a few games of this season getting a high `PER` and `+/-`, so no problem arises.\n",
    "\n",
    "So now let's investigate if exists a discrepancy between the salaries of US players and the other ones:"
   ]
  },
  {
   "cell_type": "code",
   "execution_count": 57,
   "metadata": {},
   "outputs": [
    {
     "name": "stdout",
     "output_type": "stream",
     "text": [
      "Foreign players salaries probabilities:\n",
      "+-----------+---------------+\n",
      "| SALARY    |   phi(SALARY) |\n",
      "+===========+===============+\n",
      "| SALARY(1) |        0.2290 |\n",
      "+-----------+---------------+\n",
      "| SALARY(2) |        0.2614 |\n",
      "+-----------+---------------+\n",
      "| SALARY(3) |        0.1329 |\n",
      "+-----------+---------------+\n",
      "| SALARY(4) |        0.0616 |\n",
      "+-----------+---------------+\n",
      "| SALARY(5) |        0.0574 |\n",
      "+-----------+---------------+\n",
      "| SALARY(6) |        0.1509 |\n",
      "+-----------+---------------+\n",
      "| SALARY(7) |        0.0558 |\n",
      "+-----------+---------------+\n",
      "| SALARY(8) |        0.0510 |\n",
      "+-----------+---------------+\n"
     ]
    }
   ],
   "source": [
    "print(\"Foreign players salaries probabilities:\")\n",
    "query2 = exact_inference.query(['SALARY'], evidence = {'COUNTRY':1}, show_progress = False)\n",
    "print(query2)"
   ]
  },
  {
   "cell_type": "code",
   "execution_count": 58,
   "metadata": {},
   "outputs": [
    {
     "name": "stdout",
     "output_type": "stream",
     "text": [
      "US players salaries probabilities:\n",
      "+-----------+---------------+\n",
      "| SALARY    |   phi(SALARY) |\n",
      "+===========+===============+\n",
      "| SALARY(1) |        0.2305 |\n",
      "+-----------+---------------+\n",
      "| SALARY(2) |        0.2621 |\n",
      "+-----------+---------------+\n",
      "| SALARY(3) |        0.1329 |\n",
      "+-----------+---------------+\n",
      "| SALARY(4) |        0.0614 |\n",
      "+-----------+---------------+\n",
      "| SALARY(5) |        0.0573 |\n",
      "+-----------+---------------+\n",
      "| SALARY(6) |        0.1505 |\n",
      "+-----------+---------------+\n",
      "| SALARY(7) |        0.0552 |\n",
      "+-----------+---------------+\n",
      "| SALARY(8) |        0.0500 |\n",
      "+-----------+---------------+\n"
     ]
    }
   ],
   "source": [
    "print(\"US players salaries probabilities:\")\n",
    "query3 = exact_inference.query(['SALARY'], evidence = {'COUNTRY':2}, show_progress = False)\n",
    "print(query3)"
   ]
  },
  {
   "cell_type": "markdown",
   "metadata": {},
   "source": [
    "Fortunately, it seems that the salary's probabilities are similar so no discrimination arose.\n",
    "\n",
    "Now to enforce the concept, we can exploit the function `map_query` of `exact_inference` which makes an explanation about the most likely salary given some value's nodes as evidence."
   ]
  },
  {
   "cell_type": "code",
   "execution_count": 59,
   "metadata": {},
   "outputs": [
    {
     "name": "stdout",
     "output_type": "stream",
     "text": [
      "The most likely salary range for a player with PER = 6 and +/- = 5 is: {'SALARY': 8}\n"
     ]
    }
   ],
   "source": [
    "query4 = exact_inference.map_query(['SALARY'], evidence = {'PER':6, '+/-': 5},show_progress=False)\n",
    "print(f\"The most likely salary range for a player with PER = 6 and +/- = 5 is: {query4}\")"
   ]
  },
  {
   "cell_type": "markdown",
   "metadata": {},
   "source": [
    "We can clearly say that these three players that we found have definitely a lower salary with respect to similar players without a concrete reason.\n",
    "\n",
    "To conclude let's find the names of these players:"
   ]
  },
  {
   "cell_type": "code",
   "execution_count": 60,
   "metadata": {},
   "outputs": [
    {
     "name": "stdout",
     "output_type": "stream",
     "text": [
      "Players with a low salary wrt personal stats are: Clint Capela, Jonas Valanciunas and Luka Doncic.\n"
     ]
    }
   ],
   "source": [
    "player_81 = df_original.loc[81,'PLAYER']\n",
    "player_264 = df_original.loc[264,'PLAYER']\n",
    "player_339 = df_original.loc[339,'PLAYER']\n",
    "print(f\"Players with a low salary wrt personal stats are: {player_81}, {player_264} and {player_339}.\")"
   ]
  },
  {
   "cell_type": "markdown",
   "metadata": {},
   "source": [
    "Now let's make the opposite. We can consider for instance players with a low `PER` and `+/-` :"
   ]
  },
  {
   "cell_type": "code",
   "execution_count": 61,
   "metadata": {},
   "outputs": [
    {
     "name": "stdout",
     "output_type": "stream",
     "text": [
      "+-----------+---------------+\n",
      "| SALARY    |   phi(SALARY) |\n",
      "+===========+===============+\n",
      "| SALARY(1) |        0.3600 |\n",
      "+-----------+---------------+\n",
      "| SALARY(2) |        0.2800 |\n",
      "+-----------+---------------+\n",
      "| SALARY(3) |        0.1200 |\n",
      "+-----------+---------------+\n",
      "| SALARY(4) |        0.0800 |\n",
      "+-----------+---------------+\n",
      "| SALARY(5) |        0.0400 |\n",
      "+-----------+---------------+\n",
      "| SALARY(6) |        0.1200 |\n",
      "+-----------+---------------+\n",
      "| SALARY(7) |        0.0000 |\n",
      "+-----------+---------------+\n",
      "| SALARY(8) |        0.0000 |\n",
      "+-----------+---------------+\n"
     ]
    }
   ],
   "source": [
    "query5 = exact_inference.query(['SALARY'], evidence = {'PER':2, '+/-':2}, show_progress = False)\n",
    "print(query5)"
   ]
  },
  {
   "cell_type": "markdown",
   "metadata": {},
   "source": [
    "Now let's compare the characteristics of players with `SALARY = 5`, `SALARY = 6`, `PER = 2` and `+/- = 2`:"
   ]
  },
  {
   "cell_type": "code",
   "execution_count": 62,
   "metadata": {},
   "outputs": [
    {
     "data": {
      "text/html": [
       "<div>\n",
       "<style scoped>\n",
       "    .dataframe tbody tr th:only-of-type {\n",
       "        vertical-align: middle;\n",
       "    }\n",
       "\n",
       "    .dataframe tbody tr th {\n",
       "        vertical-align: top;\n",
       "    }\n",
       "\n",
       "    .dataframe thead th {\n",
       "        text-align: right;\n",
       "    }\n",
       "</style>\n",
       "<table border=\"1\" class=\"dataframe\">\n",
       "  <thead>\n",
       "    <tr style=\"text-align: right;\">\n",
       "      <th></th>\n",
       "      <th>TEAM</th>\n",
       "      <th>AGE</th>\n",
       "      <th>GP</th>\n",
       "      <th>MIN</th>\n",
       "      <th>+/-</th>\n",
       "      <th>PER</th>\n",
       "      <th>POS</th>\n",
       "      <th>HEIGHT</th>\n",
       "      <th>WEIGHT</th>\n",
       "      <th>YOS</th>\n",
       "      <th>DRAFT</th>\n",
       "      <th>COUNTRY</th>\n",
       "      <th>SALARY</th>\n",
       "    </tr>\n",
       "  </thead>\n",
       "  <tbody>\n",
       "    <tr>\n",
       "      <th>11</th>\n",
       "      <td>2</td>\n",
       "      <td>3</td>\n",
       "      <td>2</td>\n",
       "      <td>4</td>\n",
       "      <td>2</td>\n",
       "      <td>2</td>\n",
       "      <td>4</td>\n",
       "      <td>4</td>\n",
       "      <td>3</td>\n",
       "      <td>4</td>\n",
       "      <td>1</td>\n",
       "      <td>2</td>\n",
       "      <td>6</td>\n",
       "    </tr>\n",
       "    <tr>\n",
       "      <th>287</th>\n",
       "      <td>6</td>\n",
       "      <td>2</td>\n",
       "      <td>2</td>\n",
       "      <td>5</td>\n",
       "      <td>2</td>\n",
       "      <td>2</td>\n",
       "      <td>3</td>\n",
       "      <td>3</td>\n",
       "      <td>3</td>\n",
       "      <td>2</td>\n",
       "      <td>1</td>\n",
       "      <td>2</td>\n",
       "      <td>6</td>\n",
       "    </tr>\n",
       "    <tr>\n",
       "      <th>410</th>\n",
       "      <td>2</td>\n",
       "      <td>4</td>\n",
       "      <td>3</td>\n",
       "      <td>6</td>\n",
       "      <td>2</td>\n",
       "      <td>2</td>\n",
       "      <td>3</td>\n",
       "      <td>3</td>\n",
       "      <td>4</td>\n",
       "      <td>3</td>\n",
       "      <td>2</td>\n",
       "      <td>2</td>\n",
       "      <td>5</td>\n",
       "    </tr>\n",
       "    <tr>\n",
       "      <th>444</th>\n",
       "      <td>1</td>\n",
       "      <td>2</td>\n",
       "      <td>3</td>\n",
       "      <td>4</td>\n",
       "      <td>2</td>\n",
       "      <td>2</td>\n",
       "      <td>4</td>\n",
       "      <td>4</td>\n",
       "      <td>2</td>\n",
       "      <td>2</td>\n",
       "      <td>1</td>\n",
       "      <td>2</td>\n",
       "      <td>6</td>\n",
       "    </tr>\n",
       "  </tbody>\n",
       "</table>\n",
       "</div>"
      ],
      "text/plain": [
       "    TEAM AGE GP MIN +/- PER POS HEIGHT WEIGHT YOS DRAFT COUNTRY SALARY\n",
       "11     2   3  2   4   2   2   4      4      3   4     1       2      6\n",
       "287    6   2  2   5   2   2   3      3      3   2     1       2      6\n",
       "410    2   4  3   6   2   2   3      3      4   3     2       2      5\n",
       "444    1   2  3   4   2   2   4      4      2   2     1       2      6"
      ]
     },
     "execution_count": 62,
     "metadata": {},
     "output_type": "execute_result"
    }
   ],
   "source": [
    "df_temp2 = df.loc[((df['SALARY'] == 5) | (df['SALARY'] == 6)) & (df['+/-'] == 2) & (df['PER'] == 2)]\n",
    "df_temp2.head()"
   ]
  },
  {
   "cell_type": "markdown",
   "metadata": {},
   "source": [
    "And then let's print the most likely salary range for players with these characteristics:"
   ]
  },
  {
   "cell_type": "code",
   "execution_count": 63,
   "metadata": {},
   "outputs": [
    {
     "name": "stdout",
     "output_type": "stream",
     "text": [
      "The most likely salary range for a player with PER = 2 and +/- = 2 is: {'SALARY': 1}\n"
     ]
    }
   ],
   "source": [
    "query6 = exact_inference.map_query(['SALARY'], evidence = {'PER':2, '+/-': 2},show_progress=False)\n",
    "print(f\"The most likely salary range for a player with PER = 2 and +/- = 2 is: {query6}\")"
   ]
  },
  {
   "cell_type": "markdown",
   "metadata": {},
   "source": [
    "From the table above we can see that two players have `GP = 2`, so their salary may be adequate because they simply played few games in the season and were underwhelmed, perhaps because of returning from an injury. It is a different matter for the other two players with `GP = 3`. In this case, they played more than half of the games of the season and despite this, they obtained very low `PER` and `+/-` values. If in the next seasons these players were not able to do better, their salary should be greatly reduced, as explained by `query6`.\n",
    "\n",
    "To conclude, let's find the names of these players:"
   ]
  },
  {
   "cell_type": "code",
   "execution_count": 64,
   "metadata": {},
   "outputs": [
    {
     "name": "stdout",
     "output_type": "stream",
     "text": [
      "Players with a high salary wrt personal stats are: P.J. Tucker and Rodney Hood.\n"
     ]
    }
   ],
   "source": [
    "player_410 = df_original.loc[410,'PLAYER']\n",
    "player_444 = df_original.loc[444,'PLAYER']\n",
    "print(f\"Players with a high salary wrt personal stats are: {player_410} and {player_444}.\")"
   ]
  },
  {
   "cell_type": "markdown",
   "metadata": {},
   "source": [
    "Finally, let's take a look to the salary of Alex Caruso, Giannis Antetokounmpo and Nikola Jokic of this season:"
   ]
  },
  {
   "cell_type": "code",
   "execution_count": 65,
   "metadata": {},
   "outputs": [
    {
     "data": {
      "text/html": [
       "<div>\n",
       "<style scoped>\n",
       "    .dataframe tbody tr th:only-of-type {\n",
       "        vertical-align: middle;\n",
       "    }\n",
       "\n",
       "    .dataframe tbody tr th {\n",
       "        vertical-align: top;\n",
       "    }\n",
       "\n",
       "    .dataframe thead th {\n",
       "        text-align: right;\n",
       "    }\n",
       "</style>\n",
       "<table border=\"1\" class=\"dataframe\">\n",
       "  <thead>\n",
       "    <tr style=\"text-align: right;\">\n",
       "      <th></th>\n",
       "      <th>PLAYER</th>\n",
       "      <th>TEAM</th>\n",
       "      <th>AGE</th>\n",
       "      <th>GP</th>\n",
       "      <th>W</th>\n",
       "      <th>L</th>\n",
       "      <th>MIN</th>\n",
       "      <th>PTS</th>\n",
       "      <th>FGM</th>\n",
       "      <th>FGA</th>\n",
       "      <th>...</th>\n",
       "      <th>+/-</th>\n",
       "      <th>PER</th>\n",
       "      <th>POS</th>\n",
       "      <th>HEIGHT</th>\n",
       "      <th>WEIGHT</th>\n",
       "      <th>YOS</th>\n",
       "      <th>COLLEGE</th>\n",
       "      <th>DRAFT</th>\n",
       "      <th>COUNTRY</th>\n",
       "      <th>SALARY</th>\n",
       "    </tr>\n",
       "  </thead>\n",
       "  <tbody>\n",
       "    <tr>\n",
       "      <th>9</th>\n",
       "      <td>Alex Caruso</td>\n",
       "      <td>LAL</td>\n",
       "      <td>27</td>\n",
       "      <td>58</td>\n",
       "      <td>32</td>\n",
       "      <td>26</td>\n",
       "      <td>21.0</td>\n",
       "      <td>6.4</td>\n",
       "      <td>2.3</td>\n",
       "      <td>5.3</td>\n",
       "      <td>...</td>\n",
       "      <td>2.1</td>\n",
       "      <td>11.13</td>\n",
       "      <td>G</td>\n",
       "      <td>6-4</td>\n",
       "      <td>186</td>\n",
       "      <td>3</td>\n",
       "      <td>Texas A&amp;M</td>\n",
       "      <td>2016 NBA Draft, Undrafted</td>\n",
       "      <td>United States</td>\n",
       "      <td>$2,750,000</td>\n",
       "    </tr>\n",
       "    <tr>\n",
       "      <th>184</th>\n",
       "      <td>Giannis Antetokounmpo</td>\n",
       "      <td>MIL</td>\n",
       "      <td>26</td>\n",
       "      <td>61</td>\n",
       "      <td>40</td>\n",
       "      <td>21</td>\n",
       "      <td>33.0</td>\n",
       "      <td>28.1</td>\n",
       "      <td>10.3</td>\n",
       "      <td>18.0</td>\n",
       "      <td>...</td>\n",
       "      <td>6.7</td>\n",
       "      <td>29.24</td>\n",
       "      <td>F</td>\n",
       "      <td>6-11</td>\n",
       "      <td>242</td>\n",
       "      <td>7</td>\n",
       "      <td>Other</td>\n",
       "      <td>2013 Rnd 1 Pick 15</td>\n",
       "      <td>Greece</td>\n",
       "      <td>$27,528,088</td>\n",
       "    </tr>\n",
       "    <tr>\n",
       "      <th>399</th>\n",
       "      <td>Nikola Jokic</td>\n",
       "      <td>DEN</td>\n",
       "      <td>26</td>\n",
       "      <td>72</td>\n",
       "      <td>47</td>\n",
       "      <td>25</td>\n",
       "      <td>34.6</td>\n",
       "      <td>26.4</td>\n",
       "      <td>10.2</td>\n",
       "      <td>18.0</td>\n",
       "      <td>...</td>\n",
       "      <td>5.3</td>\n",
       "      <td>31.36</td>\n",
       "      <td>C</td>\n",
       "      <td>7-0</td>\n",
       "      <td>284</td>\n",
       "      <td>5</td>\n",
       "      <td>Other</td>\n",
       "      <td>2014 Rnd 2 Pick 11</td>\n",
       "      <td>Serbia</td>\n",
       "      <td>$29,542,010</td>\n",
       "    </tr>\n",
       "  </tbody>\n",
       "</table>\n",
       "<p>3 rows × 38 columns</p>\n",
       "</div>"
      ],
      "text/plain": [
       "                    PLAYER TEAM  AGE  GP   W   L   MIN   PTS   FGM   FGA  ...  \\\n",
       "9              Alex Caruso  LAL   27  58  32  26  21.0   6.4   2.3   5.3  ...   \n",
       "184  Giannis Antetokounmpo  MIL   26  61  40  21  33.0  28.1  10.3  18.0  ...   \n",
       "399           Nikola Jokic  DEN   26  72  47  25  34.6  26.4  10.2  18.0  ...   \n",
       "\n",
       "     +/-    PER  POS  HEIGHT  WEIGHT  YOS    COLLEGE  \\\n",
       "9    2.1  11.13    G     6-4     186    3  Texas A&M   \n",
       "184  6.7  29.24    F    6-11     242    7      Other   \n",
       "399  5.3  31.36    C     7-0     284    5      Other   \n",
       "\n",
       "                         DRAFT        COUNTRY        SALARY  \n",
       "9    2016 NBA Draft, Undrafted  United States   $2,750,000   \n",
       "184         2013 Rnd 1 Pick 15         Greece  $27,528,088   \n",
       "399         2014 Rnd 2 Pick 11         Serbia  $29,542,010   \n",
       "\n",
       "[3 rows x 38 columns]"
      ]
     },
     "execution_count": 65,
     "metadata": {},
     "output_type": "execute_result"
    }
   ],
   "source": [
    "df_temp3 = df_original.loc[(df_original['PLAYER'] == 'Alex Caruso') | (df_original['PLAYER'] == 'Giannis Antetokounmpo') | (df_original['PLAYER'] == 'Nikola Jokic')]\n",
    "df_temp3.head()"
   ]
  },
  {
   "cell_type": "markdown",
   "metadata": {},
   "source": [
    "As we can see the salaries seem really low although they are among the best players in the league, so we can predict the adequate ones for each of them. \n",
    "\n",
    "Let's start with Alex Caruso:"
   ]
  },
  {
   "cell_type": "code",
   "execution_count": 66,
   "metadata": {},
   "outputs": [
    {
     "name": "stdout",
     "output_type": "stream",
     "text": [
      "  TEAM AGE GP MIN +/- PER POS HEIGHT WEIGHT YOS DRAFT COUNTRY SALARY\n",
      "9    5   2  3   5   5   3   1      3      1   1     3       2      2\n"
     ]
    }
   ],
   "source": [
    "print(df.loc[[9]])"
   ]
  },
  {
   "cell_type": "code",
   "execution_count": 67,
   "metadata": {},
   "outputs": [
    {
     "name": "stdout",
     "output_type": "stream",
     "text": [
      "Correct range of salary for Alex Caruso is: {'SALARY': 6}\n"
     ]
    }
   ],
   "source": [
    "query7 = exact_inference.map_query(['SALARY'], evidence = {'PER':3, '+/-': 5},show_progress=False)\n",
    "print(f\"Correct range of salary for Alex Caruso is: {query7}\")"
   ]
  },
  {
   "cell_type": "markdown",
   "metadata": {},
   "source": [
    "Then let's consider respectively the MVP of the last two seasons Giannis Antetokounmpo and the one of this season Nikola Jokic:"
   ]
  },
  {
   "cell_type": "code",
   "execution_count": 68,
   "metadata": {},
   "outputs": [
    {
     "name": "stdout",
     "output_type": "stream",
     "text": [
      "Giannis Antetokounmpo:\n",
      "     TEAM AGE GP MIN +/- PER POS HEIGHT WEIGHT YOS DRAFT COUNTRY SALARY\n",
      "184    2   2  4   7   6   6   4      5      4   3     1       1      7\n",
      "Nikola Jokic:\n",
      "     TEAM AGE GP MIN +/- PER POS HEIGHT WEIGHT YOS DRAFT COUNTRY SALARY\n",
      "399    4   2  4   7   6   6   5      5      5   2     2       1      8\n"
     ]
    }
   ],
   "source": [
    "print(\"Giannis Antetokounmpo:\\n\", df.loc[[184]])\n",
    "print(\"Nikola Jokic:\\n\", df.loc[[399]])"
   ]
  },
  {
   "cell_type": "markdown",
   "metadata": {},
   "source": [
    "They have exactly the same values of `PER` and `+/-`, so let's see what salary is more adequate:"
   ]
  },
  {
   "cell_type": "code",
   "execution_count": 69,
   "metadata": {},
   "outputs": [
    {
     "name": "stdout",
     "output_type": "stream",
     "text": [
      "The appropriate salary range for Giannis Antetokounmpo and Nikola Jokic is: {'SALARY': 8}\n"
     ]
    }
   ],
   "source": [
    "query8 = exact_inference.map_query(['SALARY'], evidence = {'PER':6, '+/-': 6},show_progress=False)\n",
    "print(f\"The appropriate salary range for Giannis Antetokounmpo and Nikola Jokic is: {query8}\")"
   ]
  },
  {
   "cell_type": "markdown",
   "metadata": {},
   "source": [
    "So Giannis has a salary inadequate to his performance of this season."
   ]
  },
  {
   "cell_type": "markdown",
   "metadata": {},
   "source": [
    "##### **5.2 STATS INFERENCE**"
   ]
  },
  {
   "cell_type": "markdown",
   "metadata": {},
   "source": [
    "Now we can make more general assumptions, not only about the salaries but over all the players' stats.\n",
    "\n",
    "Let's start by seeing how the round in which a player was selected at the draft still affects his performance years later (more than 10). "
   ]
  },
  {
   "cell_type": "code",
   "execution_count": 70,
   "metadata": {},
   "outputs": [
    {
     "name": "stdout",
     "output_type": "stream",
     "text": [
      "Draft round odds for players with PER = 1 and YOS = 4:\n",
      "+----------+--------------+\n",
      "| DRAFT    |   phi(DRAFT) |\n",
      "+==========+==============+\n",
      "| DRAFT(1) |       0.1697 |\n",
      "+----------+--------------+\n",
      "| DRAFT(2) |       0.1357 |\n",
      "+----------+--------------+\n",
      "| DRAFT(3) |       0.6946 |\n",
      "+----------+--------------+\n",
      "Draft round odds for players with PER = 5 and YOS = 4:\n",
      "+----------+--------------+\n",
      "| DRAFT    |   phi(DRAFT) |\n",
      "+==========+==============+\n",
      "| DRAFT(1) |       0.7118 |\n",
      "+----------+--------------+\n",
      "| DRAFT(2) |       0.1370 |\n",
      "+----------+--------------+\n",
      "| DRAFT(3) |       0.1512 |\n",
      "+----------+--------------+\n"
     ]
    }
   ],
   "source": [
    "print(\"Draft round odds for players with PER = 1 and YOS = 4:\")\n",
    "query9 = exact_inference.query(['DRAFT'], evidence = {'PER':1, 'YOS': 4}, show_progress = False)\n",
    "print(query9)\n",
    "print(\"Draft round odds for players with PER = 5 and YOS = 4:\")\n",
    "query10 = exact_inference.query(['DRAFT'], evidence = {'PER':5, 'YOS': 4}, show_progress = False)\n",
    "print(query10)"
   ]
  },
  {
   "cell_type": "markdown",
   "metadata": {},
   "source": [
    "From the example above we can see that a player with a very low `PER` value who played for more than 10 years, at 69% has not been drafted. On the other hand, there is a 71% of probability that a player with the same experience and a very high `PER` value was selected in the first round of the draft, and an incredibly little probability that he was selected in the second round. This reasoning which may seem trivial is instead vitally important for teams at draft time. It shows in fact how it is very difficult for players who were not among the first picks to improve and still have good seasons many years later.\n",
    "\n",
    "Now let's consider how salaries change with respect to the role:"
   ]
  },
  {
   "cell_type": "code",
   "execution_count": 71,
   "metadata": {},
   "outputs": [
    {
     "name": "stdout",
     "output_type": "stream",
     "text": [
      "Annual salary for players with POS = 1:\n",
      "+-----------+---------------+\n",
      "| SALARY    |   phi(SALARY) |\n",
      "+===========+===============+\n",
      "| SALARY(1) |        0.2463 |\n",
      "+-----------+---------------+\n",
      "| SALARY(2) |        0.2775 |\n",
      "+-----------+---------------+\n",
      "| SALARY(3) |        0.1324 |\n",
      "+-----------+---------------+\n",
      "| SALARY(4) |        0.0554 |\n",
      "+-----------+---------------+\n",
      "| SALARY(5) |        0.0544 |\n",
      "+-----------+---------------+\n",
      "| SALARY(6) |        0.1508 |\n",
      "+-----------+---------------+\n",
      "| SALARY(7) |        0.0433 |\n",
      "+-----------+---------------+\n",
      "| SALARY(8) |        0.0398 |\n",
      "+-----------+---------------+\n",
      "Annual salary for players with POS = 2:\n",
      "+-----------+---------------+\n",
      "| SALARY    |   phi(SALARY) |\n",
      "+===========+===============+\n",
      "| SALARY(1) |        0.2313 |\n",
      "+-----------+---------------+\n",
      "| SALARY(2) |        0.2828 |\n",
      "+-----------+---------------+\n",
      "| SALARY(3) |        0.1366 |\n",
      "+-----------+---------------+\n",
      "| SALARY(4) |        0.0581 |\n",
      "+-----------+---------------+\n",
      "| SALARY(5) |        0.0535 |\n",
      "+-----------+---------------+\n",
      "| SALARY(6) |        0.1549 |\n",
      "+-----------+---------------+\n",
      "| SALARY(7) |        0.0449 |\n",
      "+-----------+---------------+\n",
      "| SALARY(8) |        0.0379 |\n",
      "+-----------+---------------+\n",
      "Annual salary for players with POS = 3:\n",
      "+-----------+---------------+\n",
      "| SALARY    |   phi(SALARY) |\n",
      "+===========+===============+\n",
      "| SALARY(1) |        0.2431 |\n",
      "+-----------+---------------+\n",
      "| SALARY(2) |        0.2853 |\n",
      "+-----------+---------------+\n",
      "| SALARY(3) |        0.1324 |\n",
      "+-----------+---------------+\n",
      "| SALARY(4) |        0.0564 |\n",
      "+-----------+---------------+\n",
      "| SALARY(5) |        0.0578 |\n",
      "+-----------+---------------+\n",
      "| SALARY(6) |        0.1446 |\n",
      "+-----------+---------------+\n",
      "| SALARY(7) |        0.0428 |\n",
      "+-----------+---------------+\n",
      "| SALARY(8) |        0.0376 |\n",
      "+-----------+---------------+\n",
      "Annual salary for players with POS = 4:\n",
      "+-----------+---------------+\n",
      "| SALARY    |   phi(SALARY) |\n",
      "+===========+===============+\n",
      "| SALARY(1) |        0.2176 |\n",
      "+-----------+---------------+\n",
      "| SALARY(2) |        0.2608 |\n",
      "+-----------+---------------+\n",
      "| SALARY(3) |        0.1352 |\n",
      "+-----------+---------------+\n",
      "| SALARY(4) |        0.0628 |\n",
      "+-----------+---------------+\n",
      "| SALARY(5) |        0.0588 |\n",
      "+-----------+---------------+\n",
      "| SALARY(6) |        0.1538 |\n",
      "+-----------+---------------+\n",
      "| SALARY(7) |        0.0588 |\n",
      "+-----------+---------------+\n",
      "| SALARY(8) |        0.0522 |\n",
      "+-----------+---------------+\n",
      "Annual salary for players with POS = 5:\n",
      "+-----------+---------------+\n",
      "| SALARY    |   phi(SALARY) |\n",
      "+===========+===============+\n",
      "| SALARY(1) |        0.2069 |\n",
      "+-----------+---------------+\n",
      "| SALARY(2) |        0.1891 |\n",
      "+-----------+---------------+\n",
      "| SALARY(3) |        0.1274 |\n",
      "+-----------+---------------+\n",
      "| SALARY(4) |        0.0783 |\n",
      "+-----------+---------------+\n",
      "| SALARY(5) |        0.0627 |\n",
      "+-----------+---------------+\n",
      "| SALARY(6) |        0.1490 |\n",
      "+-----------+---------------+\n",
      "| SALARY(7) |        0.0950 |\n",
      "+-----------+---------------+\n",
      "| SALARY(8) |        0.0916 |\n",
      "+-----------+---------------+\n"
     ]
    }
   ],
   "source": [
    "print(\"Annual salary for players with POS = 1:\")\n",
    "query11 = exact_inference.query(['SALARY'], evidence = {'POS':1}, show_progress = False)\n",
    "print(query11)\n",
    "print(\"Annual salary for players with POS = 2:\")\n",
    "query12 = exact_inference.query(['SALARY'], evidence = {'POS':2}, show_progress = False)\n",
    "print(query12)\n",
    "print(\"Annual salary for players with POS = 3:\")\n",
    "query13 = exact_inference.query(['SALARY'], evidence = {'POS':3}, show_progress = False)\n",
    "print(query13)\n",
    "print(\"Annual salary for players with POS = 4:\")\n",
    "query14 = exact_inference.query(['SALARY'], evidence = {'POS':4}, show_progress = False)\n",
    "print(query14)\n",
    "print(\"Annual salary for players with POS = 5:\")\n",
    "query15 = exact_inference.query(['SALARY'], evidence = {'POS':5}, show_progress = False)\n",
    "print(query15)"
   ]
  },
  {
   "cell_type": "markdown",
   "metadata": {},
   "source": [
    "What we can infer is that players who play as Center (`POS = 5`) are among the most coveted in the league, having on average higher salaries than others. Then follow the Power Forward (`POS = 4`), while the players who play as 3 are the ones with the lowest salaries on average, probably due to the overabundance of players who can play in this role. \n",
    "\n",
    "Now let's see how injuries affect players over the years:"
   ]
  },
  {
   "cell_type": "code",
   "execution_count": 72,
   "metadata": {},
   "outputs": [
    {
     "name": "stdout",
     "output_type": "stream",
     "text": [
      "AGE 0-24:\n",
      "+-------+-----------+\n",
      "| GP    |   phi(GP) |\n",
      "+=======+===========+\n",
      "| GP(1) |    0.2294 |\n",
      "+-------+-----------+\n",
      "| GP(2) |    0.2511 |\n",
      "+-------+-----------+\n",
      "| GP(3) |    0.2727 |\n",
      "+-------+-----------+\n",
      "| GP(4) |    0.2468 |\n",
      "+-------+-----------+\n",
      "AGE 25-29:\n",
      "+-------+-----------+\n",
      "| GP    |   phi(GP) |\n",
      "+=======+===========+\n",
      "| GP(1) |    0.1741 |\n",
      "+-------+-----------+\n",
      "| GP(2) |    0.1940 |\n",
      "+-------+-----------+\n",
      "| GP(3) |    0.3383 |\n",
      "+-------+-----------+\n",
      "| GP(4) |    0.2935 |\n",
      "+-------+-----------+\n",
      "AGE 30-34:\n",
      "+-------+-----------+\n",
      "| GP    |   phi(GP) |\n",
      "+=======+===========+\n",
      "| GP(1) |    0.1047 |\n",
      "+-------+-----------+\n",
      "| GP(2) |    0.1512 |\n",
      "+-------+-----------+\n",
      "| GP(3) |    0.3953 |\n",
      "+-------+-----------+\n",
      "| GP(4) |    0.3488 |\n",
      "+-------+-----------+\n",
      "AGE 35-INF:\n",
      "+-------+-----------+\n",
      "| GP    |   phi(GP) |\n",
      "+=======+===========+\n",
      "| GP(1) |    0.1818 |\n",
      "+-------+-----------+\n",
      "| GP(2) |    0.1818 |\n",
      "+-------+-----------+\n",
      "| GP(3) |    0.4545 |\n",
      "+-------+-----------+\n",
      "| GP(4) |    0.1818 |\n",
      "+-------+-----------+\n"
     ]
    }
   ],
   "source": [
    "print(\"AGE 0-24:\")\n",
    "query16 = exact_inference.query(['GP'], evidence = {'AGE':1}, show_progress = False)\n",
    "print(query16)\n",
    "print(\"AGE 25-29:\")\n",
    "query17 = exact_inference.query(['GP'], evidence = {'AGE':2}, show_progress = False)\n",
    "print(query17)\n",
    "print(\"AGE 30-34:\")\n",
    "query18 = exact_inference.query(['GP'], evidence = {'AGE':3}, show_progress = False)\n",
    "print(query18)\n",
    "print(\"AGE 35-INF:\")\n",
    "query19 = exact_inference.query(['GP'], evidence = {'AGE':4}, show_progress = False)\n",
    "print(query19)"
   ]
  },
  {
   "cell_type": "markdown",
   "metadata": {},
   "source": [
    "Younger players are the ones less prone to injuries, and it is possible to notice this by seeing how the probability is perfectly distributed among the intervals. Nevertheless, the lack of experience does not allow some of them to play all the games of the season. As age increases so do the likelihood of playing more, but the latest CPT shows that 'older' players are very unlikely to play all the games in a season. This result was predictable, so let's see if the salary offered to a player takes this into account:"
   ]
  },
  {
   "cell_type": "code",
   "execution_count": 73,
   "metadata": {},
   "outputs": [
    {
     "name": "stdout",
     "output_type": "stream",
     "text": [
      "Young players with lack of experience:\n",
      "+-----------+---------------+\n",
      "| SALARY    |   phi(SALARY) |\n",
      "+===========+===============+\n",
      "| SALARY(1) |        0.2451 |\n",
      "+-----------+---------------+\n",
      "| SALARY(2) |        0.2640 |\n",
      "+-----------+---------------+\n",
      "| SALARY(3) |        0.1332 |\n",
      "+-----------+---------------+\n",
      "| SALARY(4) |        0.0612 |\n",
      "+-----------+---------------+\n",
      "| SALARY(5) |        0.0555 |\n",
      "+-----------+---------------+\n",
      "| SALARY(6) |        0.1434 |\n",
      "+-----------+---------------+\n",
      "| SALARY(7) |        0.0523 |\n",
      "+-----------+---------------+\n",
      "| SALARY(8) |        0.0454 |\n",
      "+-----------+---------------+\n",
      "Senior players with more than 10 years of NBA experience:\n",
      "+-----------+---------------+\n",
      "| SALARY    |   phi(SALARY) |\n",
      "+===========+===============+\n",
      "| SALARY(1) |        0.2006 |\n",
      "+-----------+---------------+\n",
      "| SALARY(2) |        0.2576 |\n",
      "+-----------+---------------+\n",
      "| SALARY(3) |        0.1339 |\n",
      "+-----------+---------------+\n",
      "| SALARY(4) |        0.0636 |\n",
      "+-----------+---------------+\n",
      "| SALARY(5) |        0.0608 |\n",
      "+-----------+---------------+\n",
      "| SALARY(6) |        0.1606 |\n",
      "+-----------+---------------+\n",
      "| SALARY(7) |        0.0632 |\n",
      "+-----------+---------------+\n",
      "| SALARY(8) |        0.0597 |\n",
      "+-----------+---------------+\n"
     ]
    }
   ],
   "source": [
    "print(\"Young players with lack of experience:\")\n",
    "query20 = exact_inference.query(['SALARY'], evidence = {'AGE': 1, 'YOS': 1}, show_progress = False)\n",
    "print(query20)\n",
    "print(\"Senior players with more than 10 years of NBA experience:\")\n",
    "query21 = exact_inference.query(['SALARY'], evidence = {'AGE': 4, 'YOS': 3}, show_progress = False)\n",
    "print(query21)"
   ]
  },
  {
   "cell_type": "markdown",
   "metadata": {},
   "source": [
    "Although older players struggle to play most of the games of a season, the experience gained over the years allows them to get a salary not only similar to that of younger ones but even slightly better.\n",
    "\n",
    "We can finally conclude the notebook by making a comparison between the `approximate_inference` and the `exact_inference` techniques. In particular, it will be considered some of the queries evaluated previously, to understand if approximate inference with the Weighted Likelihood sampling method could be a good replacement when a bigger Bayesian Network is considered."
   ]
  },
  {
   "cell_type": "code",
   "execution_count": 75,
   "metadata": {},
   "outputs": [
    {
     "name": "stdout",
     "output_type": "stream",
     "text": [
      "################## SAMPLE SIZE: 100 ##################\n",
      "\n",
      "Query: SALARY - Evidence: {'PER': 6, '+/-': 5}\n",
      "Exact probability: 0.1\n",
      "Approximate probability: 0.24\n",
      "\n",
      "Query: SALARY - Evidence: {'COUNTRY': 2}\n",
      "Exact probability: 0.26\n",
      "Approximate probability: 0.27\n",
      "\n",
      "Query: GP - Evidence: {'AGE': 3}\n",
      "Exact probability: 0.15\n",
      "Approximate probability: 0.14\n",
      "\n",
      "Query: SALARY - Evidence: {'AGE': 4, 'YOS': 3}\n",
      "Exact probability: 0.26\n",
      "Approximate probability: 0.3\n",
      "\n",
      "################## SAMPLE SIZE: 1000 ##################\n",
      "\n",
      "Query: SALARY - Evidence: {'PER': 6, '+/-': 5}\n",
      "Exact probability: 0.1\n",
      "Approximate probability: 0.04\n",
      "\n",
      "Query: SALARY - Evidence: {'COUNTRY': 2}\n",
      "Exact probability: 0.26\n",
      "Approximate probability: 0.25\n",
      "\n",
      "Query: GP - Evidence: {'AGE': 3}\n",
      "Exact probability: 0.15\n",
      "Approximate probability: 0.2\n",
      "\n",
      "Query: SALARY - Evidence: {'AGE': 4, 'YOS': 3}\n",
      "Exact probability: 0.26\n",
      "Approximate probability: 0.29\n",
      "\n",
      "################## SAMPLE SIZE: 10000 ##################\n",
      "\n",
      "Query: SALARY - Evidence: {'PER': 6, '+/-': 5}\n",
      "Exact probability: 0.1\n",
      "Approximate probability: 0.1\n",
      "\n",
      "Query: SALARY - Evidence: {'COUNTRY': 2}\n",
      "Exact probability: 0.26\n",
      "Approximate probability: 0.25\n",
      "\n",
      "Query: GP - Evidence: {'AGE': 3}\n",
      "Exact probability: 0.15\n",
      "Approximate probability: 0.19\n",
      "\n",
      "Query: SALARY - Evidence: {'AGE': 4, 'YOS': 3}\n",
      "Exact probability: 0.26\n",
      "Approximate probability: 0.28\n",
      "\n",
      "################## SAMPLE SIZE: 100000 ##################\n",
      "\n",
      "Query: SALARY - Evidence: {'PER': 6, '+/-': 5}\n",
      "Exact probability: 0.1\n",
      "Approximate probability: 0.08\n",
      "\n",
      "Query: SALARY - Evidence: {'COUNTRY': 2}\n",
      "Exact probability: 0.26\n",
      "Approximate probability: 0.25\n",
      "\n",
      "Query: GP - Evidence: {'AGE': 3}\n",
      "Exact probability: 0.15\n",
      "Approximate probability: 0.2\n",
      "\n",
      "Query: SALARY - Evidence: {'AGE': 4, 'YOS': 3}\n",
      "Exact probability: 0.26\n",
      "Approximate probability: 0.28\n",
      "\n"
     ]
    }
   ],
   "source": [
    "# Performing approximate inference\n",
    "def get_approximate_inference(variable, evidence, size):\n",
    "    \n",
    "    approximate_query = approximate_inference.likelihood_weighted_sample(evidence = evidence, \n",
    "                                                                         size = size,\n",
    "                                                                         seed = 42,\n",
    "                                                                         show_progress = False)\n",
    "    state_names = sorted(approximate_query[variable].unique())\n",
    "    approximate_prob = []\n",
    "    for state in state_names:\n",
    "        approximate_prob.append(np.sum(np.multiply(approximate_query[variable] == state, approximate_query['_weight']))\n",
    "                        /np.sum(approximate_query['_weight']))\n",
    "    return np.round(approximate_prob[1],2)\n",
    "\n",
    "# Performing exact inference\n",
    "def get_exact_inference(variable, evidence):\n",
    "\n",
    "    exact_query = exact_inference.query([variable], evidence, show_progress=False)\n",
    "    exact_prob = np.round(exact_query.values[1],2)\n",
    "    return exact_prob\n",
    "\n",
    "comparison_list = [('SALARY', [State('PER',6), State('+/-',5)],  {'PER' : 6,'+/-': 5}),\n",
    "                   ('SALARY', [State('COUNTRY',2)],  {'COUNTRY' : 2}),\n",
    "                   ('GP', [State('AGE',3)],  {'AGE' : 3}),\n",
    "                   ('SALARY', [State('AGE',4), State('YOS',3)],  {'AGE' : 4,'YOS': 3})]\n",
    "\n",
    "for size in np.logspace(2, 5, num=4, dtype='<i8'):\n",
    "    print(f\"################## SAMPLE SIZE: {size} ##################\\n\")\n",
    "    for variable, approx_ev, exact_ev in comparison_list:\n",
    "        approximate_prob = get_approximate_inference(variable, approx_ev, size)\n",
    "        exact_prob = get_exact_inference(variable, exact_ev)\n",
    "        print(f\"Query: {variable} - Evidence: {exact_ev}\")\n",
    "        print(f\"Exact probability: {exact_prob}\")\n",
    "        print(f\"Approximate probability: {approximate_prob}\\n\")\n",
    "    "
   ]
  },
  {
   "cell_type": "markdown",
   "metadata": {},
   "source": [
    "In conclusion, the results show that, as the sampling size increases the approximate inference is able to correctly approximate the queries with a minimum deviation, although for some of them a size of 100.000 is unfortunately still not large enough."
   ]
  }
 ],
 "metadata": {
  "interpreter": {
   "hash": "03140538d8ad1087be9acacc69edc0fb4c89cb9b7237ce46519dccbba2269547"
  },
  "kernelspec": {
   "display_name": "Python 3.8.5 64-bit ('bn': conda)",
   "language": "python",
   "name": "python3"
  },
  "language_info": {
   "codemirror_mode": {
    "name": "ipython",
    "version": 3
   },
   "file_extension": ".py",
   "mimetype": "text/x-python",
   "name": "python",
   "nbconvert_exporter": "python",
   "pygments_lexer": "ipython3",
   "version": "3.8.5"
  },
  "orig_nbformat": 4
 },
 "nbformat": 4,
 "nbformat_minor": 2
}
